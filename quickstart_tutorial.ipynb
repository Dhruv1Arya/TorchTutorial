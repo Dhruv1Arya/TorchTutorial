{
  "nbformat": 4,
  "nbformat_minor": 0,
  "metadata": {
    "colab": {
      "name": "quickstart_tutorial.ipynb",
      "provenance": [],
      "authorship_tag": "ABX9TyNgLGYySFR0sKEdrWxzgyBH",
      "include_colab_link": true
    },
    "kernelspec": {
      "name": "python3",
      "display_name": "Python 3"
    },
    "language_info": {
      "name": "python"
    }
  },
  "cells": [
    {
      "cell_type": "markdown",
      "metadata": {
        "id": "view-in-github",
        "colab_type": "text"
      },
      "source": [
        "<a href=\"https://colab.research.google.com/github/Dhruv1Arya/TorchTutorial/blob/main/quickstart_tutorial.ipynb\" target=\"_parent\"><img src=\"https://colab.research.google.com/assets/colab-badge.svg\" alt=\"Open In Colab\"/></a>"
      ]
    },
    {
      "cell_type": "code",
      "execution_count": 1,
      "metadata": {
        "colab": {
          "base_uri": "https://localhost:8080/"
        },
        "id": "L-Fy1P9QzlG4",
        "outputId": "b8bed545-4c05-470a-db68-c497bbc3b582"
      },
      "outputs": [
        {
          "output_type": "stream",
          "name": "stdout",
          "text": [
            "--2022-07-01 08:16:38--  https://www.cs.rice.edu/~vo9/visualnews/origin.tar\n",
            "Resolving www.cs.rice.edu (www.cs.rice.edu)... 128.42.207.26\n",
            "Connecting to www.cs.rice.edu (www.cs.rice.edu)|128.42.207.26|:443... connected.\n",
            "HTTP request sent, awaiting response... 200 OK\n",
            "Length: 97916641280 (91G) [application/x-tar]\n",
            "Saving to: ‘origin.tar’\n",
            "\n",
            "origin.tar            0%[                    ]  91.69M  3.18MB/s    eta 8h 10m ^C\n"
          ]
        }
      ],
      "source": [
        "!wget https://www.cs.rice.edu/~vo9/visualnews/origin.tar"
      ]
    }
  ]
}